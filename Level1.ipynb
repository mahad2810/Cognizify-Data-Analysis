{
 "cells": [
  {
   "cell_type": "code",
   "execution_count": 1,
   "id": "ea37e2d2-e0d3-4651-b097-c391dc9c49e5",
   "metadata": {},
   "outputs": [
    {
     "name": "stdout",
     "output_type": "stream",
     "text": [
      "Top 3 Cuisines:\n",
      "Cuisines\n",
      "North Indian    3960\n",
      "Chinese         2735\n",
      "Fast Food       1986\n",
      "Name: count, dtype: int64\n",
      "\n",
      "Percentage of Restaurants for Each of the Top 3 Cuisines:\n",
      "Cuisines\n",
      "North Indian    41.461627\n",
      "Chinese         28.635745\n",
      "Fast Food       20.793634\n",
      "Name: count, dtype: float64\n",
      "\n",
      "City with the Highest Number of Restaurants: New Delhi\n",
      "\n",
      "Average Rating for Restaurants in Each City:\n",
      "City\n",
      "Abu Dhabi          4.300000\n",
      "Agra               3.965000\n",
      "Ahmedabad          4.161905\n",
      "Albany             3.555000\n",
      "Allahabad          3.395000\n",
      "                     ...   \n",
      "Weirton            3.900000\n",
      "Wellington City    4.250000\n",
      "Winchester Bay     3.200000\n",
      "Yorkton            3.300000\n",
      "stanbul            4.292857\n",
      "Name: Aggregate rating, Length: 141, dtype: float64\n",
      "\n",
      "City with the Highest Average Rating: Inner City\n"
     ]
    },
    {
     "data": {
      "image/png": "[encoded data removed]",
      "text/plain": [
       "<Figure size 800x600 with 1 Axes>"
      ]
     },
     "metadata": {},
     "output_type": "display_data"
    },
    {
     "name": "stdout",
     "output_type": "stream",
     "text": [
      "\n",
      "Percentage of Restaurants in Each Price Range:\n",
      "Price range\n",
      "1    46.529159\n",
      "2    32.593446\n",
      "3    14.741912\n",
      "4     6.135483\n",
      "Name: count, dtype: float64\n",
      "['No' 'Yes']\n",
      "\n",
      "Percentage of Restaurants that Offer Online Delivery: 25.662234321013504 %\n",
      "\n",
      "Average rating for restaurants with online delivery: 3.2488372093023257\n",
      "Average rating for restaurants without online delivery: 2.465295774647887\n"
     ]
    }
   ],
   "source": [
    "import pandas as pd\n",
    "import matplotlib.pyplot as plt\n",
    "import unicodedata\n",
    "import re\n",
    "\n",
    "restaurant_df=pd.read_csv('Dataset.csv')\n",
    "\n",
    "def refined_data(sentence):\n",
    "    sentence=unicodedata.normalize('NFKD',sentence)\n",
    "    sentence=sentence.encode('ascii','ignore').decode('ascii')\n",
    "\n",
    "    sentence=re.sub(r'[^a-zA-Z0-9\\s]',' ',sentence)\n",
    "    return sentence\n",
    "\n",
    "restaurant_df['City'] = restaurant_df['City'].apply(lambda x: refined_data(str(x)))\n",
    "restaurant_df['Restaurant Name'] = restaurant_df['Restaurant Name'].apply(lambda x: refined_data(str(x)))\n",
    "\n",
    "\n",
    "restaurant_df = restaurant_df[restaurant_df['City'].str.strip().notna() & restaurant_df['Restaurant Name'].str.strip().notna()]\n",
    "\n",
    "cuisines = restaurant_df['Cuisines'].str.split(',').explode().str.strip()\n",
    "top_cuisines = cuisines.value_counts().head(3)\n",
    "print(\"Top 3 Cuisines:\")\n",
    "print(top_cuisines)\n",
    "\n",
    "num_restaurants = len(restaurant_df)\n",
    "top_cuisines_percentage = (top_cuisines / num_restaurants) * 100\n",
    "print(\"\\nPercentage of Restaurants for Each of the Top 3 Cuisines:\")\n",
    "print(top_cuisines_percentage)\n",
    "\n",
    "num_city = restaurant_df['City'].value_counts()\n",
    "city_maxrestaurants = num_city.idxmax()\n",
    "print(\"\\nCity with the Highest Number of Restaurants:\", city_maxrestaurants)\n",
    "\n",
    "city_rating =restaurant_df.groupby('City')['Aggregate rating'].mean()\n",
    "print(\"\\nAverage Rating for Restaurants in Each City:\")\n",
    "print(city_rating)\n",
    "\n",
    "city_maxrating = city_rating.idxmax()\n",
    "print(\"\\nCity with the Highest Average Rating:\", city_maxrating)\n",
    "\n",
    "price_range_num= restaurant_df['Price range'].value_counts()\n",
    "price_range_num.plot(kind='bar', color='skyblue', edgecolor='black', figsize=(8, 6))\n",
    "plt.title('Price Range Distribution')\n",
    "plt.xlabel('Price Range')\n",
    "plt.ylabel('Number of Restaurants')\n",
    "plt.xticks(rotation=45)\n",
    "plt.show()\n",
    "\n",
    "\n",
    "\n",
    "price_range_percentage = (price_range_num / num_restaurants) * 100\n",
    "print(\"\\nPercentage of Restaurants in Each Price Range:\")\n",
    "print(price_range_percentage)\n",
    "\n",
    "\n",
    "print(restaurant_df['Has Online delivery'].unique())\n",
    "\n",
    "restaurant_df['Has Online delivery'] = restaurant_df['Has Online delivery'].apply(lambda x: 1 if x == 'Yes' else 0)\n",
    "\n",
    "online_delivery_percentage = restaurant_df['Has Online delivery'].mean() * 100\n",
    "print(\"\\nPercentage of Restaurants that Offer Online Delivery:\", online_delivery_percentage, \"%\")\n",
    "\n",
    "rating_with_delivery = restaurant_df[restaurant_df['Has Online delivery'] == 1]['Aggregate rating'].mean()\n",
    "rating_without_delivery = restaurant_df[restaurant_df['Has Online delivery'] == 0]['Aggregate rating'].mean()\n",
    "\n",
    "print(\"\\nAverage rating for restaurants with online delivery:\", rating_with_delivery)\n",
    "print(\"Average rating for restaurants without online delivery:\", rating_without_delivery)"
   ]
  },
  {
   "cell_type": "code",
   "execution_count": null,
   "id": "973841b7-4b12-4bbd-a272-16e510932d68",
   "metadata": {},
   "outputs": [],
   "source": []
  }
 ],
 "metadata": {
  "kernelspec": {
   "display_name": "Python 3 (ipykernel)",
   "language": "python",
   "name": "python3"
  },
  "language_info": {
   "codemirror_mode": {
    "name": "ipython",
    "version": 3
   },
   "file_extension": ".py",
   "mimetype": "text/x-python",
   "name": "python",
   "nbconvert_exporter": "python",
   "pygments_lexer": "ipython3",
   "version": "3.11.5"
  }
 },
 "nbformat": 4,
 "nbformat_minor": 5
}
